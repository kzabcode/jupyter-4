{
 "cells": [
  {
   "cell_type": "markdown",
   "metadata": {},
   "source": [
    "# Object-Oriented-Programming (OOP)"
   ]
  },
  {
   "cell_type": "markdown",
   "metadata": {},
   "source": [
    "## Tasks Today:\n",
    "\n",
    "   \n",
    "\n",
    "1) <b>Creating a Class (Initializing/Declaring)</b> <br>\n",
    "2) <b>Using a Class (Instantiating)</b> <br>\n",
    " &nbsp;&nbsp;&nbsp;&nbsp; a) Creating One Instance <br>\n",
    " &nbsp;&nbsp;&nbsp;&nbsp; b) Creating Multiple Instances <br>\n",
    " &nbsp;&nbsp;&nbsp;&nbsp; c) In-Class Exercise #1 - Create a Class 'Car' and instantiate three different makes of cars <br>\n",
    "3) <b>The \\__init\\__() Method</b> <br>\n",
    " &nbsp;&nbsp;&nbsp;&nbsp; a) The 'self' Attribute <br>\n",
    "4) <b>Class Attributes</b> <br>\n",
    " &nbsp;&nbsp;&nbsp;&nbsp; a) Initializing Attributes <br>\n",
    " &nbsp;&nbsp;&nbsp;&nbsp; b) Setting an Attribute Outside of the \\__init\\__() Method <br>\n",
    " &nbsp;&nbsp;&nbsp;&nbsp; c) Setting Defaults for Attributes <br>\n",
    " &nbsp;&nbsp;&nbsp;&nbsp; d) Accessing Class Attributes <br>\n",
    " &nbsp;&nbsp;&nbsp;&nbsp; e) Changing Class Attributes <br>\n",
    " &nbsp;&nbsp;&nbsp;&nbsp; f) In-Class Exercise #2 - Add a color and wheels attribute to your 'Car' class <br>\n",
    "5) <b>Class Methods</b> <br>\n",
    " &nbsp;&nbsp;&nbsp;&nbsp; a) Creating <br>\n",
    " &nbsp;&nbsp;&nbsp;&nbsp; b) Calling <br>\n",
    " &nbsp;&nbsp;&nbsp;&nbsp; c) Modifying an Attribute's Value Through a Method <br>\n",
    " &nbsp;&nbsp;&nbsp;&nbsp; d) Incrementing an Attribute's Value Through a Method <br>\n",
    " &nbsp;&nbsp;&nbsp;&nbsp; e) In-Class Exercise #3 - Add a method that prints the cars color and wheel number, then call them <br>\n",
    "6) <b>Inheritance</b> <br>\n",
    " &nbsp;&nbsp;&nbsp;&nbsp; a) Syntax for Inheriting from a Parent Class <br>\n",
    " &nbsp;&nbsp;&nbsp;&nbsp; b) The \\__init\\__() Method for a Child Class (super()) <br>\n",
    " &nbsp;&nbsp;&nbsp;&nbsp; c) Defining Attributes and Methods for the Child Class <br>\n",
    " &nbsp;&nbsp;&nbsp;&nbsp; d) Method Overriding <br>\n",
    " &nbsp;&nbsp;&nbsp;&nbsp; e) In-Class Exercise #4 - Create a class 'Ford' that inherits from 'Car' class and initialize it as a Blue Ford Explorer with 4 wheels using the super() method <br>\n",
    "7) <b>Classes as Attributes</b> <br>\n",
    "8) <b>Exercises</b> <br>\n",
    " &nbsp;&nbsp;&nbsp;&nbsp; a) Exercise #1 - Turn the shopping cart program from yesterday into an object-oriented program <br>"
   ]
  },
  {
   "cell_type": "markdown",
   "metadata": {},
   "source": [
    "## Creating a Class (Initializing/Declaring)\n",
    "<p>When creating a class, function, or even a variable you are initializing that object. Initializing and Declaring occur at the same time in Python, whereas in lower level languages you have to declare an object before initializing it. This is the first step in the process of using a class.</p>"
   ]
  },
  {
   "cell_type": "code",
   "execution_count": 2,
   "metadata": {},
   "outputs": [],
   "source": [
    "class Car():\n",
    "    wheels = 4\n",
    "    color = 'blue'"
   ]
  },
  {
   "cell_type": "markdown",
   "metadata": {},
   "source": [
    "## Using a Class (Instantiating)\n",
    "<p>The process of creating a class is called <i>Instantiating</i>. Each time you create a variable of that type of class, it is referred to as an <i>Instance</i> of that class. This is the second step in the process of using a class.</p>"
   ]
  },
  {
   "cell_type": "markdown",
   "metadata": {},
   "source": [
    "##### Creating One Instance"
   ]
  },
  {
   "cell_type": "code",
   "execution_count": 3,
   "metadata": {},
   "outputs": [
    {
     "name": "stdout",
     "output_type": "stream",
     "text": [
      "blue\n"
     ]
    }
   ],
   "source": [
    "ford = Car()\n",
    "\n",
    "print(ford.color)"
   ]
  },
  {
   "cell_type": "markdown",
   "metadata": {},
   "source": [
    "##### Creating Multiple Instances"
   ]
  },
  {
   "cell_type": "code",
   "execution_count": 4,
   "metadata": {},
   "outputs": [
    {
     "name": "stdout",
     "output_type": "stream",
     "text": [
      "<class 'str'>\n"
     ]
    }
   ],
   "source": [
    "chevy = Car()\n",
    "honda = Car()\n",
    "porsche = Car()\n",
    "\n",
    "print(type(porsche.color))"
   ]
  },
  {
   "cell_type": "markdown",
   "metadata": {},
   "source": [
    "##### In-Class Exercise #1 - Create a Class 'Car' and Instantiate three different makes of cars"
   ]
  },
  {
   "cell_type": "code",
   "execution_count": 6,
   "metadata": {},
   "outputs": [
    {
     "name": "stdout",
     "output_type": "stream",
     "text": [
      "A chevy has 2 doors, a toyota is best red, and a bmw is faster with 3 wheels!\n"
     ]
    }
   ],
   "source": [
    "class Car():\n",
    "    doors = 2\n",
    "    color = 'red'\n",
    "    wheels = 3\n",
    "    \n",
    "chevy = Car()\n",
    "toyota = Car()\n",
    "bmw = Car()\n",
    "\n",
    "print('A chevy has ' + str(chevy.doors) + ' doors, a toyota is best ' + toyota.color + \n",
    "      ', and a bmw is faster with ' + str(bmw.wheels) + ' wheels!')"
   ]
  },
  {
   "cell_type": "markdown",
   "metadata": {},
   "source": [
    "## The \\__init\\__() Method <br>\n",
    "<p>This method is used in almost every created class, and called only once upon the creation of the class instance. This method will initialize all variables needed for the object.</p>"
   ]
  },
  {
   "cell_type": "code",
   "execution_count": 9,
   "metadata": {},
   "outputs": [
    {
     "name": "stdout",
     "output_type": "stream",
     "text": [
      "black\n",
      "blue\n",
      "4\n",
      "6\n"
     ]
    }
   ],
   "source": [
    "class Car():\n",
    "    engine = '4.7L'\n",
    "    \n",
    "    def __init__(self, color, wheels):\n",
    "        self.color = color\n",
    "        self.wheels = wheels\n",
    "    \n",
    "mazda = Car('black', 4)\n",
    "subaru = Car('blue', 6)\n",
    "\n",
    "print(mazda.color)\n",
    "print(subaru.color)\n",
    "print(mazda.wheels)\n",
    "print(subaru.wheels)"
   ]
  },
  {
   "cell_type": "markdown",
   "metadata": {},
   "source": [
    "##### The 'self' Attribute <br>\n",
    "<p>This attribute is required to keep track of specific instance's attributes. Without the self attribute, the program would not know how to reference or keep track of an instance's attributes.</p>"
   ]
  },
  {
   "cell_type": "code",
   "execution_count": null,
   "metadata": {},
   "outputs": [],
   "source": [
    "# see above\n"
   ]
  },
  {
   "cell_type": "markdown",
   "metadata": {},
   "source": [
    "## Class Attributes <br>\n",
    "<p>While variables are inside of a class, they are referred to as attributes and not variables. When someone says 'attribute' you know they're speaking about a class. Attributes can be initialized through the init method, or outside of it.</p>"
   ]
  },
  {
   "cell_type": "markdown",
   "metadata": {},
   "source": [
    "##### Initializing Attributes"
   ]
  },
  {
   "cell_type": "code",
   "execution_count": 11,
   "metadata": {},
   "outputs": [],
   "source": [
    "# see above\n",
    "\n",
    "class Toy():\n",
    "    kind = 'car' # This is called a constant\n",
    "    \n",
    "    def __init__(self, rooftop, horn, wheels):\n",
    "        self.rooftop = rooftop\n",
    "        self.horn = horn\n",
    "        self.wheels = wheels\n",
    "        \n",
    "tonka_truck = Toy(1,1,4)\n",
    "hotwheels_car = Toy(2,3,8)"
   ]
  },
  {
   "cell_type": "markdown",
   "metadata": {},
   "source": [
    "##### Accessing Class Attributes"
   ]
  },
  {
   "cell_type": "code",
   "execution_count": 12,
   "metadata": {
    "scrolled": true
   },
   "outputs": [
    {
     "data": {
      "text/plain": [
       "8"
      ]
     },
     "execution_count": 12,
     "metadata": {},
     "output_type": "execute_result"
    }
   ],
   "source": [
    "# See Above\n",
    "\n",
    "tonka_truck.rooftop\n",
    "hotwheels_car.wheels\n"
   ]
  },
  {
   "cell_type": "markdown",
   "metadata": {},
   "source": [
    "##### Setting Defaults for Attributes"
   ]
  },
  {
   "cell_type": "code",
   "execution_count": 13,
   "metadata": {},
   "outputs": [
    {
     "data": {
      "text/plain": [
       "'Blue'"
      ]
     },
     "execution_count": 13,
     "metadata": {},
     "output_type": "execute_result"
    }
   ],
   "source": [
    "class Car():\n",
    "    engine = '4.7L'\n",
    "    \n",
    "    def __init__(self, wheels):\n",
    "        self.wheels = wheels\n",
    "        self.color = 'Blue'\n",
    "        \n",
    "honda=Car(4)\n",
    "honda.color"
   ]
  },
  {
   "cell_type": "markdown",
   "metadata": {},
   "source": [
    "##### Changing Class Attributes <br>\n",
    "<p>Keep in mind there are global class attributes and then there are attributes only available to each class instance which won't effect other classes.</p>"
   ]
  },
  {
   "cell_type": "code",
   "execution_count": 14,
   "metadata": {},
   "outputs": [
    {
     "name": "stdout",
     "output_type": "stream",
     "text": [
      "Before change: Blue\n",
      "\n",
      "After change: White\n",
      "Blue\n"
     ]
    }
   ],
   "source": [
    "jeep = Car(8)\n",
    "\n",
    "print(f'Before change: {jeep.color}')\n",
    "\n",
    "jeep.color = 'White'\n",
    "\n",
    "print(f'\\nAfter change: {jeep.color}')\n",
    "print(honda.color)"
   ]
  },
  {
   "cell_type": "code",
   "execution_count": null,
   "metadata": {},
   "outputs": [],
   "source": []
  },
  {
   "cell_type": "markdown",
   "metadata": {},
   "source": [
    "##### In-Class Exercise #2 - Add a doors and seats attribute to your 'Car' class then print out two different instances with different doors and seats"
   ]
  },
  {
   "cell_type": "code",
   "execution_count": 20,
   "metadata": {},
   "outputs": [
    {
     "name": "stdout",
     "output_type": "stream",
     "text": [
      "If a toyota has 4 seats and a bmw has 2 seats, which has 2 doors?bmw\n",
      "CORRECT!!!\n"
     ]
    }
   ],
   "source": [
    "class Car():\n",
    "    engine = '4.7L'\n",
    "    \n",
    "    def __init__(self, doors, seats = 10):\n",
    "        self.doors = doors\n",
    "        self.seats = seats\n",
    "        \n",
    "toyota = Car(5,4)\n",
    "bmw = Car(2,2)\n",
    "\n",
    "test = input(f'If a toyota has {toyota.seats} seats and a bmw has {bmw.seats} seats, which has {bmw.doors} doors?')\n",
    "if test == 'bmw':\n",
    "    print('CORRECT!!!')\n",
    "else:\n",
    "    print(\"Sorry that's incorrect, maybe you should go back to Coding Temple\")\n",
    "        "
   ]
  },
  {
   "cell_type": "markdown",
   "metadata": {},
   "source": [
    "## Class Methods <br>\n",
    "<p>While inside of a class, functions are referred to as 'methods'. If you hear someone mention methods, they're speaking about classes. Methods are essentially functions, but only callable on the instances of a class.</p>"
   ]
  },
  {
   "cell_type": "markdown",
   "metadata": {},
   "source": [
    "##### Creating"
   ]
  },
  {
   "cell_type": "code",
   "execution_count": 18,
   "metadata": {},
   "outputs": [],
   "source": [
    "class ShoppingBag():\n",
    "    \"\"\"\n",
    "        The ShoppingBag class will have handles, capacity,\n",
    "        and items to place inside\n",
    "        \n",
    "        Attributes for the class:\n",
    "        - handles: expected to be an integer\n",
    "        - capacity: expected to be a string OR an integer\n",
    "        - item: expected to be a list\n",
    "    \"\"\"\n",
    "    \n",
    "    def __init__(self, handles, capacity, items):\n",
    "        self.handles = handles\n",
    "        self.capacity = capacity\n",
    "        self.items = items\n",
    "        \n",
    "    # Write a method that shows the items in our ShoppingBag / this is our items list\n",
    "    def showShoppingBag(self):\n",
    "        print(\"You have items in your bag!\")\n",
    "        for item in self.items:\n",
    "            print(item)\n",
    "            \n",
    "    # Show the capacity of ShoppingBag - how much room is left\n",
    "    def showCapacity(self):\n",
    "        print(f'Your capacity is: {self.capacity}')\n",
    "        \n",
    "    # Add item(s) to the items list for the ShoppingBag\n",
    "    def addToShoppingBag(self):\n",
    "        products = input(\"What would you like to add? \")\n",
    "        self.items.append(products)\n",
    "        \n",
    "    # Change the capacity of the ShoppingBag\n",
    "    def changeShoppingCapacity(self, capacity):\n",
    "        self.capacity = capacity\n",
    "        \n",
    "    # Increase the capacity of the ShoppingBag by a default amount that we set to 10\n",
    "    def increaseCapacity(self, changed_capacity =10):\n",
    "        if self.capacity == isinstance(self.capacity, str):\n",
    "            print(\"We can't add that here\")\n",
    "            \n",
    "        else:\n",
    "            self.capacity += changed_capacity\n",
    "            \n",
    "        "
   ]
  },
  {
   "cell_type": "code",
   "execution_count": null,
   "metadata": {},
   "outputs": [],
   "source": []
  },
  {
   "cell_type": "markdown",
   "metadata": {},
   "source": [
    "##### Calling"
   ]
  },
  {
   "cell_type": "code",
   "execution_count": 20,
   "metadata": {},
   "outputs": [
    {
     "name": "stdout",
     "output_type": "stream",
     "text": [
      "What do you what to do? add/show/quit quit\n",
      "You have items in your bag!\n",
      "Thanks for shopping\n"
     ]
    }
   ],
   "source": [
    "# See Above\n",
    "# So far, we created the idea of the shopping bag; now we will actually instantiate and make one, and use it!\n",
    "wholeFoods_bag = ShoppingBag(2,10,[])\n",
    "\n",
    "# Create a function to run the ShoppingBag methods on our wholeFoods_bag instance\n",
    "\n",
    "def run():\n",
    "    while True:\n",
    "        response = input('What do you what to do? add/show/quit ')\n",
    "        \n",
    "        if response.lower() == 'quit':\n",
    "            wholeFoods_bag.showShoppingBag()\n",
    "            print('Thanks for shopping')\n",
    "            break\n",
    "        elif response.lower() == 'add':\n",
    "            wholeFoods_bag.addToShoppingBag()\n",
    "        elif response.lower() == 'show':\n",
    "            wholeFoods_bag.showShoppingBag()\n",
    "        else:\n",
    "            print('Try another command')\n",
    "            \n",
    "run()"
   ]
  },
  {
   "cell_type": "markdown",
   "metadata": {},
   "source": [
    "##### Modifying an Attribute's Value Through a Method"
   ]
  },
  {
   "cell_type": "code",
   "execution_count": 21,
   "metadata": {},
   "outputs": [
    {
     "name": "stdout",
     "output_type": "stream",
     "text": [
      "Your capacity is: 10\n",
      "Capacity after the change...\n",
      "Your capacity is: 50\n"
     ]
    }
   ],
   "source": [
    "# Show the capacity\n",
    "wholeFoods_bag.showCapacity()\n",
    "print('Capacity after the change...')\n",
    "wholeFoods_bag.increaseCapacity(40)\n",
    "wholeFoods_bag.showCapacity()"
   ]
  },
  {
   "cell_type": "markdown",
   "metadata": {},
   "source": [
    "##### Incrementing an Attribute's Value Through a Method"
   ]
  },
  {
   "cell_type": "code",
   "execution_count": null,
   "metadata": {},
   "outputs": [],
   "source": []
  },
  {
   "cell_type": "markdown",
   "metadata": {},
   "source": [
    "##### In-Class Exercise #3 - Add a method that takes in three parameters of year, doors and seats and prints out a formatted print statement with make, model, year, seats, and doors"
   ]
  },
  {
   "cell_type": "code",
   "execution_count": 30,
   "metadata": {},
   "outputs": [
    {
     "name": "stdout",
     "output_type": "stream",
     "text": [
      "This car is from 1965 and is a ford mustang and has 2 doors and 4 seats\n"
     ]
    }
   ],
   "source": [
    "# Create class with 2 parameters inside of the __init__ which are make and model\n",
    "\n",
    "# Inside of the Car class create a method that has 4 parameter in total (self,year,door,seats)\n",
    "\n",
    "# Output: This car is from 2019 and is a Ford Explorer and has 4 doors and 5 seats\n",
    "\n",
    "class Car():\n",
    "    def __init__(self, make, model):\n",
    "        self.make = make\n",
    "        self.model = model\n",
    "        \n",
    "    def features(self, year, door, seats):\n",
    "        self.year = year\n",
    "        self.door = door\n",
    "        self.seats = seats\n",
    "        \n",
    "ford = Car('ford', 'mustang')\n",
    "ford.features(1965, 2, 4)\n",
    "\n",
    "print(f'This car is from {ford.year} and is a {ford.make} {ford.model} and has {ford.door} doors and {ford.seats} seats')\n",
    "    "
   ]
  },
  {
   "cell_type": "markdown",
   "metadata": {},
   "source": [
    "## Inheritance <br>\n",
    "<p>You can create a child-parent relationship between two classes by using inheritance. What this allows you to do is have overriding methods, but also inherit traits from the parent class. Think of it as an actual parent and child, the child will inherit the parent's genes, as will the classes in OOP</p>"
   ]
  },
  {
   "cell_type": "markdown",
   "metadata": {},
   "source": [
    "##### Syntax for Inheriting from a Parent Class"
   ]
  },
  {
   "cell_type": "code",
   "execution_count": 34,
   "metadata": {},
   "outputs": [
    {
     "name": "stdout",
     "output_type": "stream",
     "text": [
      "Bark\n",
      "Make some generic sound\n",
      "None\n",
      "9.8\n",
      "15\n"
     ]
    }
   ],
   "source": [
    "# Create a parent class and call it Animal\n",
    "\n",
    "class Animal():\n",
    "    acceleration = 9.8\n",
    "    \n",
    "    def __init__(self, name, species, legs = 4):\n",
    "        self.name = name\n",
    "        self.species = species\n",
    "        self.legs = legs\n",
    "        \n",
    "    # Generic Parent Method - This is not overriding anything\n",
    "    def makeSound(self):\n",
    "        print('Make some generic sound')\n",
    "        \n",
    "# Now we are making our child class... Dog\n",
    "class Dog(Animal):\n",
    "    speed = 15\n",
    "    \n",
    "    def printInfo(self):\n",
    "        print(f'The dog has {self.speed}mph in speed and {self.acclration}')\n",
    "        \n",
    "# Creation of our Grand-Child Class --Mutt\n",
    "class Mutt(Dog):\n",
    "    color = 'Tan'\n",
    "    \n",
    "    # Override the Animal clsdd - using th Dog class to overwrite the __init__ from Animal\n",
    "    def __init__(self, name, species, eye_color, legs = 4):\n",
    "        Dog.__init__(self,name,species,legs)\n",
    "        self.eye_color = eye_color\n",
    "        \n",
    "    # Override the makeSound method (which is coming from.... Animal)\n",
    "    def makeSound(self):\n",
    "        noise = 'Bark'\n",
    "        return noise\n",
    "    \n",
    "lassie = Dog('Lassie', 'Dog')\n",
    "basic_animal = Animal('Generic Animal Name', 'Generic Animal Species')\n",
    "buster = Mutt('Buster', 'mut', 'Brown')\n",
    "\n",
    "print(buster.makeSound())\n",
    "print(lassie.makeSound())\n",
    "print(buster.acceleration)\n",
    "print(buster.speed)"
   ]
  },
  {
   "cell_type": "markdown",
   "metadata": {},
   "source": [
    "##### The \\__init\\__() Method for a Child Class - super()"
   ]
  },
  {
   "cell_type": "code",
   "execution_count": 35,
   "metadata": {
    "scrolled": true
   },
   "outputs": [
    {
     "name": "stdout",
     "output_type": "stream",
     "text": [
      "Bark\n",
      "Make some generic sound\n",
      "None\n",
      "9.8\n",
      "15\n"
     ]
    }
   ],
   "source": [
    "class Puppy(Dog):\n",
    "    color = \"black and brown\"\n",
    "    \n",
    "    # Override the Animal class_ __init__ (via Dog class)\n",
    "    def __init__(self, name, species, eye_color, legs = 4):\n",
    "        super().__init__(name, species, legs)\n",
    "        self.eye_color = eye_color\n",
    "        \n",
    "    # Override the makeSound method\n",
    "    def makeSound(self):\n",
    "        noise = 'Bark'\n",
    "        return noise\n",
    "   \n",
    "lassie = Dog('Lassie', 'Dog')\n",
    "basic_animal = Animal('Generic Animal Name', 'Generic Animal Species')\n",
    "buster = Mutt('Buster', 'mut', 'Brown')\n",
    "\n",
    "print(buster.makeSound())\n",
    "print(lassie.makeSound())\n",
    "print(buster.acceleration)\n",
    "print(buster.speed)"
   ]
  },
  {
   "cell_type": "markdown",
   "metadata": {},
   "source": [
    "##### Defining Attributes and Methods for the Child Class"
   ]
  },
  {
   "cell_type": "code",
   "execution_count": null,
   "metadata": {},
   "outputs": [],
   "source": [
    "# See Above"
   ]
  },
  {
   "cell_type": "markdown",
   "metadata": {},
   "source": [
    "##### Method Overriding"
   ]
  },
  {
   "cell_type": "code",
   "execution_count": null,
   "metadata": {},
   "outputs": [],
   "source": [
    "# See Above"
   ]
  },
  {
   "cell_type": "markdown",
   "metadata": {},
   "source": [
    "## Classes as Attributes <br>\n",
    "<p>Classes can also be used as attributes within another class. This is useful in situations where you need to keep variables locally stored, instead of globally stored.</p>"
   ]
  },
  {
   "cell_type": "code",
   "execution_count": 36,
   "metadata": {},
   "outputs": [
    {
     "name": "stdout",
     "output_type": "stream",
     "text": [
      "20\n"
     ]
    },
    {
     "data": {
      "text/plain": [
       "'2019 Tesla Model X 20'"
      ]
     },
     "execution_count": 36,
     "metadata": {},
     "output_type": "execute_result"
    }
   ],
   "source": [
    "class Battery():\n",
    "    volts = 7.8\n",
    "    \n",
    "    def __init__(self, cells):\n",
    "        self.cells = cells\n",
    "        \n",
    "class Car():\n",
    "    def __init__(self, year, make, model, battery):\n",
    "        self.year = year\n",
    "        self.make = make\n",
    "        self.model = model\n",
    "        self.battery = battery\n",
    "        \n",
    "    def printInfo(self):\n",
    "        return f'{self.year} {self.make} {self.model} {self.battery.cells}'\n",
    "        \n",
    "my_battery = Battery(20)\n",
    "\n",
    "tesla = Car(2019, 'Tesla', 'Model X', my_battery)\n",
    "print(tesla.battery.cells)\n",
    "tesla.printInfo()"
   ]
  },
  {
   "cell_type": "markdown",
   "metadata": {},
   "source": [
    "# Exercises"
   ]
  },
  {
   "cell_type": "markdown",
   "metadata": {},
   "source": [
    "### Exercise 1 - Turn the shopping cart program from yesterday into an object-oriented program\n",
    "\n",
    "The comments in the cell below are there as a guide for thinking about the problem. However, if you feel a different way is best for you and your own thought process, please do what feels best for you by all means."
   ]
  },
  {
   "cell_type": "code",
   "execution_count": 40,
   "metadata": {},
   "outputs": [
    {
     "name": "stdout",
     "output_type": "stream",
     "text": [
      "What would you like to do? add/remove/show or quit - add\n",
      "What would you like to add? music\n",
      "music has been added to your Cart!\n",
      "What would you like to do? add/remove/show or quit - dogs\n",
      "Please try again\n",
      "What would you like to do? add/remove/show or quit - add\n",
      "What would you like to add? dogs\n",
      "dogs has been added to your Cart!\n",
      "What would you like to do? add/remove/show or quit - add\n",
      "What would you like to add? golf\n",
      "golf has been added to your Cart!\n",
      "What would you like to do? add/remove/show or quit - show\n",
      "music\n",
      "dogs\n",
      "golf\n",
      "What would you like to do? add/remove/show or quit - remove\n",
      "Which item would you like to remove? dog\n",
      "Sorry, dog not found in cart.\n",
      "What would you like to do? add/remove/show or quit - remove\n",
      "Which item would you like to remove? dogs\n",
      "dogs has been removed from your cart.\n",
      "What would you like to do? add/remove/show or quit - show\n",
      "music\n",
      "golf\n",
      "What would you like to do? add/remove/show or quit - q\n",
      "Please try again\n",
      "What would you like to do? add/remove/show or quit - quit\n",
      "music\n",
      "golf\n",
      "Thanks for shopping!\n"
     ]
    }
   ],
   "source": [
    "# Create a class called cart that retains items and has methods to add, remove, and show\n",
    "\n",
    "class Cart():\n",
    "    def __init__(self, items):\n",
    "        self.items = items\n",
    "        \n",
    "    def addItems(self):\n",
    "        products = input(\"What would you like to add? \")\n",
    "        self.items.append(products)\n",
    "        print(f'{products} has been added to your Cart!')\n",
    "        \n",
    "    def removeItems(self):\n",
    "        product1 = input(\"Which item would you like to remove? \")\n",
    "        if product1 in self.items:\n",
    "            self.items.remove(product1)\n",
    "            print(f'{product1} has been removed from your cart.')\n",
    "        else:\n",
    "            print(f'Sorry, {product1} not found in cart.')\n",
    "            \n",
    "    def showItems(self):\n",
    "        for item in self.items:\n",
    "            print(item)            \n",
    "            \n",
    "amazon_cart = Cart([])\n",
    "\n",
    "def run():\n",
    "    while True:\n",
    "        response = input('What would you like to do? add/remove/show or quit - ')\n",
    "        \n",
    "        if response.lower() == 'quit':\n",
    "            amazon_cart.showItems()\n",
    "            print('Thanks for shopping!')\n",
    "            break\n",
    "        elif response.lower() == 'add':\n",
    "            amazon_cart.addItems()\n",
    "        elif response.lower() == 'remove':\n",
    "            amazon_cart.removeItems()\n",
    "        elif response.lower() == 'show':\n",
    "            amazon_cart.showItems()\n",
    "        else:\n",
    "            print('Please try again')\n",
    "            \n",
    "            \n",
    "run()       \n",
    "    "
   ]
  },
  {
   "cell_type": "markdown",
   "metadata": {},
   "source": [
    "### Exercise 2 - Write a Python class which has two methods get_String and print_String. get_String accept a string from the user and print_String print the string in upper case"
   ]
  },
  {
   "cell_type": "code",
   "execution_count": 56,
   "metadata": {},
   "outputs": [
    {
     "name": "stdout",
     "output_type": "stream",
     "text": [
      "What string would you like to add? im awesome\n",
      "IM AWESOME\n"
     ]
    }
   ],
   "source": [
    "class Python():\n",
    "    def get_String(self):\n",
    "        self.string = input('What string would you like to add? ')\n",
    "        \n",
    "    def print_String(self):\n",
    "        print(self.string.upper())\n",
    "        \n",
    "new_string = Python()\n",
    "\n",
    "def run():\n",
    "    new_string.get_String()\n",
    "    new_string.print_String()\n",
    "    \n",
    "run()"
   ]
  }
 ],
 "metadata": {
  "kernelspec": {
   "display_name": "Python 3 (ipykernel)",
   "language": "python",
   "name": "python3"
  },
  "language_info": {
   "codemirror_mode": {
    "name": "ipython",
    "version": 3
   },
   "file_extension": ".py",
   "mimetype": "text/x-python",
   "name": "python",
   "nbconvert_exporter": "python",
   "pygments_lexer": "ipython3",
   "version": "3.9.7"
  }
 },
 "nbformat": 4,
 "nbformat_minor": 2
}
